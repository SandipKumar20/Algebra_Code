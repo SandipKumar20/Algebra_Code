{
 "cells": [
  {
   "cell_type": "code",
   "execution_count": 15,
   "id": "a4e5308d",
   "metadata": {},
   "outputs": [
    {
     "data": {
      "text/plain": [
       "\"Computing Cayley's Table of a Zn(group under addition mod n(n=7))\""
      ]
     },
     "execution_count": 15,
     "metadata": {},
     "output_type": "execute_result"
    }
   ],
   "source": [
    "\"\"\"Computing Cayley's Table of a Zn(group under addition mod n(n=7))\"\"\""
   ]
  },
  {
   "cell_type": "code",
   "execution_count": 16,
   "id": "0e345fd0",
   "metadata": {},
   "outputs": [],
   "source": [
    "from sympy import *\n",
    "import numpy as np\n",
    "\"\"\"The elements of Z7\"\"\"\n",
    "Z7 = [0,1,2,3,4,5,6]"
   ]
  },
  {
   "cell_type": "code",
   "execution_count": 17,
   "id": "3018c8db",
   "metadata": {},
   "outputs": [],
   "source": [
    "\"\"\"Binary Operation of the Group\"\"\"\n",
    "n = 7\n",
    "Cay_Tab = np.zeros((n,n))\n",
    "def Bin_Op(a,b):\n",
    "    return (a + b)%n  #Remainder when a+b is divided by 7"
   ]
  },
  {
   "cell_type": "code",
   "execution_count": 18,
   "id": "0bdc0698",
   "metadata": {},
   "outputs": [],
   "source": [
    "\"\"\"Evaluating the Cayley's Table\"\"\"\n",
    "\n",
    "for i in range(0,n):\n",
    "    for j in range(0,n):\n",
    "        Cay_Tab[i][j] = Bin_Op(Z7[i],Z7[j])\n",
    "        "
   ]
  },
  {
   "cell_type": "code",
   "execution_count": 19,
   "id": "6eb42f07",
   "metadata": {},
   "outputs": [
    {
     "data": {
      "text/plain": [
       "array([[0., 1., 2., 3., 4., 5., 6.],\n",
       "       [1., 2., 3., 4., 5., 6., 0.],\n",
       "       [2., 3., 4., 5., 6., 0., 1.],\n",
       "       [3., 4., 5., 6., 0., 1., 2.],\n",
       "       [4., 5., 6., 0., 1., 2., 3.],\n",
       "       [5., 6., 0., 1., 2., 3., 4.],\n",
       "       [6., 0., 1., 2., 3., 4., 5.]])"
      ]
     },
     "execution_count": 19,
     "metadata": {},
     "output_type": "execute_result"
    }
   ],
   "source": [
    "\"\"\"Cayley of Z7\"\"\"\n",
    "Cay_Tab"
   ]
  },
  {
   "cell_type": "code",
   "execution_count": null,
   "id": "19bc7125",
   "metadata": {},
   "outputs": [],
   "source": []
  }
 ],
 "metadata": {
  "kernelspec": {
   "display_name": "Python 3 (ipykernel)",
   "language": "python",
   "name": "python3"
  },
  "language_info": {
   "codemirror_mode": {
    "name": "ipython",
    "version": 3
   },
   "file_extension": ".py",
   "mimetype": "text/x-python",
   "name": "python",
   "nbconvert_exporter": "python",
   "pygments_lexer": "ipython3",
   "version": "3.8.5"
  }
 },
 "nbformat": 4,
 "nbformat_minor": 5
}
