{
 "cells": [
  {
   "cell_type": "code",
   "execution_count": 1,
   "id": "17d0e516",
   "metadata": {},
   "outputs": [
    {
     "data": {
      "text/plain": [
       "'Computing the disparate cosets of a subgroup wrt a group'"
      ]
     },
     "execution_count": 1,
     "metadata": {},
     "output_type": "execute_result"
    }
   ],
   "source": [
    "\"\"\"Computing the disparate cosets of a subgroup wrt a group\"\"\""
   ]
  },
  {
   "cell_type": "code",
   "execution_count": 2,
   "id": "4d7a482c",
   "metadata": {},
   "outputs": [],
   "source": [
    "\"\"\"Group Z7 under addition mod 8\"\"\"\n",
    "G = {0,1,2,3,4,5,6,7}\n",
    "\"\"\"Subgroup H\"\"\"\n",
    "H = {0,2,4,6}"
   ]
  },
  {
   "cell_type": "code",
   "execution_count": 5,
   "id": "968c9aae",
   "metadata": {},
   "outputs": [
    {
     "name": "stdout",
     "output_type": "stream",
     "text": [
      "Number of disparate cosets of H wrt G are 2\n"
     ]
    }
   ],
   "source": [
    "print(\"Number of disparate cosets of H wrt G are\", int(len(G)/len(H)))"
   ]
  },
  {
   "cell_type": "code",
   "execution_count": 23,
   "id": "585ce411",
   "metadata": {},
   "outputs": [],
   "source": [
    "Cos = [{0,2,4,6}]"
   ]
  },
  {
   "cell_type": "code",
   "execution_count": 24,
   "id": "9c56172f",
   "metadata": {},
   "outputs": [],
   "source": [
    "for a in G:\n",
    "    s = set()\n",
    "    for b in H:\n",
    "        s.update([(a+b)%8])\n",
    "        if len(s) == len(H):\n",
    "            if s not in Cos:\n",
    "                Cos.append(s)"
   ]
  },
  {
   "cell_type": "code",
   "execution_count": 27,
   "id": "b0b36179",
   "metadata": {},
   "outputs": [
    {
     "name": "stdout",
     "output_type": "stream",
     "text": [
      "Distinct Cosets of H are: [{0, 2, 4, 6}, {1, 3, 5, 7}]\n"
     ]
    }
   ],
   "source": [
    "print(\"Distinct Cosets of H are:\",Cos)"
   ]
  },
  {
   "cell_type": "code",
   "execution_count": null,
   "id": "60c989db",
   "metadata": {},
   "outputs": [],
   "source": []
  }
 ],
 "metadata": {
  "kernelspec": {
   "display_name": "Python 3 (ipykernel)",
   "language": "python",
   "name": "python3"
  },
  "language_info": {
   "codemirror_mode": {
    "name": "ipython",
    "version": 3
   },
   "file_extension": ".py",
   "mimetype": "text/x-python",
   "name": "python",
   "nbconvert_exporter": "python",
   "pygments_lexer": "ipython3",
   "version": "3.8.5"
  }
 },
 "nbformat": 4,
 "nbformat_minor": 5
}
